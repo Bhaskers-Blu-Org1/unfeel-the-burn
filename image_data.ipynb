{
 "cells": [
  {
   "cell_type": "code",
   "execution_count": 1,
   "metadata": {},
   "outputs": [],
   "source": [
    "import pandas as pd\n",
    "from sklearn.neural_network import MLPClassifier\n",
    "\n",
    "model = MLPClassifier(hidden_layer_sizes=(50,), max_iter=1000, alpha=1e-4,\n",
    "                      solver='sgd', tol=1e-4, random_state=1,\n",
    "                      learning_rate_init=.1)"
   ]
  },
  {
   "cell_type": "code",
   "execution_count": 2,
   "metadata": {},
   "outputs": [
    {
     "data": {
      "text/plain": [
       "MLPClassifier(activation='relu', alpha=1e-05, batch_size='auto', beta_1=0.9,\n",
       "              beta_2=0.999, early_stopping=False, epsilon=1e-08,\n",
       "              hidden_layer_sizes=(5, 2), learning_rate='constant',\n",
       "              learning_rate_init=0.001, max_iter=200, momentum=0.9,\n",
       "              n_iter_no_change=10, nesterovs_momentum=True, power_t=0.5,\n",
       "              random_state=1, shuffle=True, solver='lbfgs', tol=0.0001,\n",
       "              validation_fraction=0.1, verbose=False, warm_start=False)"
      ]
     },
     "execution_count": 2,
     "metadata": {},
     "output_type": "execute_result"
    }
   ],
   "source": [
    "X = [[1], [2], [3]]\n",
    "y = ['superficial_dermal', 'partial_thickness', 'full_thickness']\n",
    "# first layer 5 nodes, second is 2 nodes\n",
    "classifier = MLPClassifier(solver='lbfgs', alpha=1e-5,\n",
    "                            hidden_layer_sizes=(5, 2), random_state=1)\n",
    "                            \n",
    "classifier.fit(X, y)"
   ]
  },
  {
   "cell_type": "code",
   "execution_count": 3,
   "metadata": {},
   "outputs": [
    {
     "data": {
      "text/plain": [
       "array(['superficial_dermal', 'full_thickness'], dtype='<U18')"
      ]
     },
     "execution_count": 3,
     "metadata": {},
     "output_type": "execute_result"
    }
   ],
   "source": [
    "classifier.predict([[1], [4]])               "
   ]
  },
  {
   "cell_type": "code",
   "execution_count": 4,
   "metadata": {},
   "outputs": [],
   "source": [
    "full_thickness_table = pd.read_csv(\"/Users/asimbiswal/desktop/sachacks2020/images/full_thickness/full_small.csv\", header=None)"
   ]
  },
  {
   "cell_type": "code",
   "execution_count": 5,
   "metadata": {},
   "outputs": [],
   "source": [
    "X1 = full_thickness_table.values\n",
    "Y1 = ['full_thickness'] * len(full_thickness_table.values)"
   ]
  },
  {
   "cell_type": "code",
   "execution_count": 6,
   "metadata": {},
   "outputs": [
    {
     "data": {
      "text/plain": [
       "array([[203, 180, 207, ..., 158, 134, 142],\n",
       "       [134, 144, 150, ..., 124, 129, 135],\n",
       "       [ 28,  28,  32, ...,  73,  96, 139],\n",
       "       ...,\n",
       "       [230, 237, 245, ...,  59,  23,  17],\n",
       "       [135,  80,  75, ..., 173, 185, 193],\n",
       "       [120, 154, 159, ..., 191, 164, 142]])"
      ]
     },
     "execution_count": 6,
     "metadata": {},
     "output_type": "execute_result"
    }
   ],
   "source": [
    "X1"
   ]
  },
  {
   "cell_type": "code",
   "execution_count": 7,
   "metadata": {},
   "outputs": [
    {
     "data": {
      "text/plain": [
       "['full_thickness',\n",
       " 'full_thickness',\n",
       " 'full_thickness',\n",
       " 'full_thickness',\n",
       " 'full_thickness',\n",
       " 'full_thickness',\n",
       " 'full_thickness',\n",
       " 'full_thickness',\n",
       " 'full_thickness',\n",
       " 'full_thickness',\n",
       " 'full_thickness',\n",
       " 'full_thickness',\n",
       " 'full_thickness',\n",
       " 'full_thickness',\n",
       " 'full_thickness',\n",
       " 'full_thickness',\n",
       " 'full_thickness',\n",
       " 'full_thickness',\n",
       " 'full_thickness',\n",
       " 'full_thickness',\n",
       " 'full_thickness',\n",
       " 'full_thickness',\n",
       " 'full_thickness']"
      ]
     },
     "execution_count": 7,
     "metadata": {},
     "output_type": "execute_result"
    }
   ],
   "source": [
    "Y1"
   ]
  },
  {
   "cell_type": "code",
   "execution_count": 8,
   "metadata": {},
   "outputs": [],
   "source": [
    "partial_thickness_table = pd.read_csv(\"/Users/asimbiswal/desktop/sachacks2020/images/partial_thickness/partial_small.csv\", header=None)"
   ]
  },
  {
   "cell_type": "code",
   "execution_count": 9,
   "metadata": {},
   "outputs": [],
   "source": [
    "X2 = partial_thickness_table.values\n",
    "Y2 = ['partial_thickness'] * len(partial_thickness_table.values)"
   ]
  },
  {
   "cell_type": "code",
   "execution_count": 10,
   "metadata": {},
   "outputs": [
    {
     "data": {
      "text/plain": [
       "array([[247, 221, 210, ..., 217, 169, 132],\n",
       "       [226, 144, 118, ..., 247, 187, 157],\n",
       "       [205, 156, 157, ..., 217, 179, 180],\n",
       "       ...,\n",
       "       [201, 107,  85, ..., 169,  78,  60],\n",
       "       [  3,   3,   3, ...,  11,  11,  11],\n",
       "       [ 11,  13,  16, ..., 154, 178, 193]])"
      ]
     },
     "execution_count": 10,
     "metadata": {},
     "output_type": "execute_result"
    }
   ],
   "source": [
    "X2"
   ]
  },
  {
   "cell_type": "code",
   "execution_count": 11,
   "metadata": {},
   "outputs": [
    {
     "data": {
      "text/plain": [
       "['partial_thickness',\n",
       " 'partial_thickness',\n",
       " 'partial_thickness',\n",
       " 'partial_thickness',\n",
       " 'partial_thickness',\n",
       " 'partial_thickness',\n",
       " 'partial_thickness',\n",
       " 'partial_thickness',\n",
       " 'partial_thickness',\n",
       " 'partial_thickness',\n",
       " 'partial_thickness',\n",
       " 'partial_thickness',\n",
       " 'partial_thickness',\n",
       " 'partial_thickness',\n",
       " 'partial_thickness',\n",
       " 'partial_thickness',\n",
       " 'partial_thickness',\n",
       " 'partial_thickness',\n",
       " 'partial_thickness']"
      ]
     },
     "execution_count": 11,
     "metadata": {},
     "output_type": "execute_result"
    }
   ],
   "source": [
    "Y2"
   ]
  },
  {
   "cell_type": "code",
   "execution_count": 12,
   "metadata": {},
   "outputs": [],
   "source": [
    "superficial_table = pd.read_csv(\"/Users/asimbiswal/desktop/sachacks2020/images/superficial_dermal/superficial_small.csv\", header=None)"
   ]
  },
  {
   "cell_type": "code",
   "execution_count": 13,
   "metadata": {},
   "outputs": [],
   "source": [
    "X3 = superficial_table.values\n",
    "Y3 = ['superficial_dermal'] * len(superficial_table.values)"
   ]
  },
  {
   "cell_type": "code",
   "execution_count": 14,
   "metadata": {},
   "outputs": [
    {
     "data": {
      "text/plain": [
       "array([[249, 251, 246, ..., 143,  64,  49],\n",
       "       [241, 241, 243, ..., 208, 170, 162],\n",
       "       [ 61,  82, 152, ...,  30,  41, 110],\n",
       "       ...,\n",
       "       [201, 185, 166, ..., 205, 157, 138],\n",
       "       [253, 253, 253, ..., 248, 241, 236],\n",
       "       [  0,   0,   0, ...,   0,   0,   0]])"
      ]
     },
     "execution_count": 14,
     "metadata": {},
     "output_type": "execute_result"
    }
   ],
   "source": [
    "X3"
   ]
  },
  {
   "cell_type": "code",
   "execution_count": 15,
   "metadata": {},
   "outputs": [
    {
     "data": {
      "text/plain": [
       "['superficial_dermal',\n",
       " 'superficial_dermal',\n",
       " 'superficial_dermal',\n",
       " 'superficial_dermal',\n",
       " 'superficial_dermal',\n",
       " 'superficial_dermal',\n",
       " 'superficial_dermal',\n",
       " 'superficial_dermal',\n",
       " 'superficial_dermal',\n",
       " 'superficial_dermal',\n",
       " 'superficial_dermal',\n",
       " 'superficial_dermal',\n",
       " 'superficial_dermal',\n",
       " 'superficial_dermal',\n",
       " 'superficial_dermal',\n",
       " 'superficial_dermal']"
      ]
     },
     "execution_count": 15,
     "metadata": {},
     "output_type": "execute_result"
    }
   ],
   "source": [
    "Y3"
   ]
  },
  {
   "cell_type": "code",
   "execution_count": 16,
   "metadata": {},
   "outputs": [
    {
     "data": {
      "text/plain": [
       "MLPClassifier(activation='relu', alpha=1e-05, batch_size='auto', beta_1=0.9,\n",
       "              beta_2=0.999, early_stopping=False, epsilon=1e-08,\n",
       "              hidden_layer_sizes=(5, 2), learning_rate='constant',\n",
       "              learning_rate_init=0.001, max_iter=200, momentum=0.9,\n",
       "              n_iter_no_change=10, nesterovs_momentum=True, power_t=0.5,\n",
       "              random_state=1, shuffle=True, solver='lbfgs', tol=0.0001,\n",
       "              validation_fraction=0.1, verbose=False, warm_start=False)"
      ]
     },
     "execution_count": 16,
     "metadata": {},
     "output_type": "execute_result"
    }
   ],
   "source": [
    "X = []\n",
    "X.extend(X1)\n",
    "X.extend(X2)\n",
    "X.extend(X3)\n",
    "y = []\n",
    "y.extend(Y1)\n",
    "y.extend(Y2)\n",
    "y.extend(Y3)\n",
    "# first layer 5 nodes, second is 2 nodes\n",
    "classifier = MLPClassifier(solver='lbfgs', alpha=1e-5,\n",
    "                            hidden_layer_sizes=(5, 2), random_state=1)\n",
    "                            \n",
    "classifier.fit(X, y)"
   ]
  },
  {
   "cell_type": "code",
   "execution_count": 17,
   "metadata": {},
   "outputs": [
    {
     "data": {
      "text/plain": [
       "['full_thickness',\n",
       " 'full_thickness',\n",
       " 'full_thickness',\n",
       " 'full_thickness',\n",
       " 'full_thickness',\n",
       " 'full_thickness',\n",
       " 'full_thickness',\n",
       " 'full_thickness',\n",
       " 'full_thickness',\n",
       " 'full_thickness',\n",
       " 'full_thickness',\n",
       " 'full_thickness',\n",
       " 'full_thickness',\n",
       " 'full_thickness',\n",
       " 'full_thickness',\n",
       " 'full_thickness',\n",
       " 'full_thickness',\n",
       " 'full_thickness',\n",
       " 'full_thickness',\n",
       " 'full_thickness',\n",
       " 'full_thickness',\n",
       " 'full_thickness',\n",
       " 'full_thickness',\n",
       " 'partial_thickness',\n",
       " 'partial_thickness',\n",
       " 'partial_thickness',\n",
       " 'partial_thickness',\n",
       " 'partial_thickness',\n",
       " 'partial_thickness',\n",
       " 'partial_thickness',\n",
       " 'partial_thickness',\n",
       " 'partial_thickness',\n",
       " 'partial_thickness',\n",
       " 'partial_thickness',\n",
       " 'partial_thickness',\n",
       " 'partial_thickness',\n",
       " 'partial_thickness',\n",
       " 'partial_thickness',\n",
       " 'partial_thickness',\n",
       " 'partial_thickness',\n",
       " 'partial_thickness',\n",
       " 'partial_thickness',\n",
       " 'superficial_dermal',\n",
       " 'superficial_dermal',\n",
       " 'superficial_dermal',\n",
       " 'superficial_dermal',\n",
       " 'superficial_dermal',\n",
       " 'superficial_dermal',\n",
       " 'superficial_dermal',\n",
       " 'superficial_dermal',\n",
       " 'superficial_dermal',\n",
       " 'superficial_dermal',\n",
       " 'superficial_dermal',\n",
       " 'superficial_dermal',\n",
       " 'superficial_dermal',\n",
       " 'superficial_dermal',\n",
       " 'superficial_dermal',\n",
       " 'superficial_dermal']"
      ]
     },
     "execution_count": 17,
     "metadata": {},
     "output_type": "execute_result"
    }
   ],
   "source": [
    "y"
   ]
  },
  {
   "cell_type": "code",
   "execution_count": 18,
   "metadata": {},
   "outputs": [
    {
     "data": {
      "text/plain": [
       "[array([203, 180, 207, ..., 158, 134, 142]),\n",
       " array([134, 144, 150, ..., 124, 129, 135]),\n",
       " array([ 28,  28,  32, ...,  73,  96, 139]),\n",
       " array([192, 201, 228, ..., 184, 189, 212]),\n",
       " array([ 59,  80, 104, ...,  46,  41,  48]),\n",
       " array([ 3,  3,  3, ..., 85, 52, 57]),\n",
       " array([ 66,  74,  70, ..., 117, 109, 107]),\n",
       " array([ 64,  62,  67, ..., 150, 128, 102]),\n",
       " array([ 44,  68, 106, ...,  76,  77,  98]),\n",
       " array([165, 215, 202, ..., 156, 213, 199]),\n",
       " array([ 69, 127, 189, ...,  34,  98, 173]),\n",
       " array([131, 103,  69, ..., 169, 139, 104]),\n",
       " array([176, 141, 132, ..., 128,  91,  84]),\n",
       " array([36, 27, 22, ...,  3,  0,  1]),\n",
       " array([204, 222, 227, ..., 137,  52,  56]),\n",
       " array([232, 234, 227, ..., 197, 197, 189]),\n",
       " array([191, 210, 211, ..., 171, 165, 154]),\n",
       " array([  2,  47,  57, ...,  33,  93, 108]),\n",
       " array([171, 142, 135, ..., 124,  86,  80]),\n",
       " array([166, 147, 115, ...,  67,  19,   5]),\n",
       " array([230, 237, 245, ...,  59,  23,  17]),\n",
       " array([135,  80,  75, ..., 173, 185, 193]),\n",
       " array([120, 154, 159, ..., 191, 164, 142]),\n",
       " array([247, 221, 210, ..., 217, 169, 132]),\n",
       " array([226, 144, 118, ..., 247, 187, 157]),\n",
       " array([205, 156, 157, ..., 217, 179, 180]),\n",
       " array([159, 121,  90, ..., 114, 111, 103]),\n",
       " array([137,  92,  69, ...,  16,  19,  20]),\n",
       " array([ 91, 121, 157, ..., 213, 130, 116]),\n",
       " array([224, 198, 188, ...,  50,  66,  82]),\n",
       " array([ 98,  70,  43, ..., 158,  79,  77]),\n",
       " array([146,  86,  62, ...,  35,  18,  12]),\n",
       " array([214, 175, 144, ..., 188, 136, 113]),\n",
       " array([186, 178, 169, ...,  36,  18,   1]),\n",
       " array([185, 156, 164, ..., 143,  86,  92]),\n",
       " array([177, 152, 138, ..., 165, 108,  99]),\n",
       " array([153, 112, 110, ..., 170, 147, 143]),\n",
       " array([235, 168, 139, ...,  14,  34,  96]),\n",
       " array([ 94, 100,  86, ...,  52,  62,  64]),\n",
       " array([201, 107,  85, ..., 169,  78,  60]),\n",
       " array([ 3,  3,  3, ..., 11, 11, 11]),\n",
       " array([ 11,  13,  16, ..., 154, 178, 193]),\n",
       " array([249, 251, 246, ..., 143,  64,  49]),\n",
       " array([241, 241, 243, ..., 208, 170, 162]),\n",
       " array([ 61,  82, 152, ...,  30,  41, 110]),\n",
       " array([200, 228, 250, ..., 123, 156, 197]),\n",
       " array([237, 228, 213, ..., 136,  73,  40]),\n",
       " array([177, 144, 103, ...,  18,  25,  30]),\n",
       " array([149, 106,  73, ...,  50,  29,  14]),\n",
       " array([249, 249, 249, ..., 246, 246, 246]),\n",
       " array([210, 143, 114, ..., 203, 109,  92]),\n",
       " array([157,  89,  67, ..., 141, 132, 141]),\n",
       " array([110, 192, 240, ..., 234, 175, 143]),\n",
       " array([248, 225, 224, ..., 208, 167, 160]),\n",
       " array([144, 167, 181, ..., 232, 146, 117]),\n",
       " array([201, 185, 166, ..., 205, 157, 138]),\n",
       " array([253, 253, 253, ..., 248, 241, 236]),\n",
       " array([0, 0, 0, ..., 0, 0, 0])]"
      ]
     },
     "execution_count": 18,
     "metadata": {},
     "output_type": "execute_result"
    }
   ],
   "source": [
    "X"
   ]
  },
  {
   "cell_type": "code",
   "execution_count": 19,
   "metadata": {},
   "outputs": [
    {
     "data": {
      "text/plain": [
       "array(['partial_thickness', 'partial_thickness', 'partial_thickness',\n",
       "       'partial_thickness', 'partial_thickness', 'full_thickness',\n",
       "       'partial_thickness', 'partial_thickness', 'partial_thickness',\n",
       "       'partial_thickness', 'partial_thickness', 'partial_thickness',\n",
       "       'partial_thickness', 'partial_thickness', 'partial_thickness',\n",
       "       'partial_thickness', 'partial_thickness', 'partial_thickness',\n",
       "       'partial_thickness', 'partial_thickness', 'partial_thickness',\n",
       "       'partial_thickness', 'partial_thickness'], dtype='<U18')"
      ]
     },
     "execution_count": 19,
     "metadata": {},
     "output_type": "execute_result"
    }
   ],
   "source": [
    "classifier.predict(X1)               "
   ]
  },
  {
   "cell_type": "code",
   "execution_count": 20,
   "metadata": {},
   "outputs": [],
   "source": [
    "test_table = pd.read_csv(\"/Users/asimbiswal/desktop/sachacks2020/csv/thirddegreeburn.csv\", header=None)"
   ]
  },
  {
   "cell_type": "code",
   "execution_count": 21,
   "metadata": {},
   "outputs": [],
   "source": [
    "testX = test_table.values[0]"
   ]
  },
  {
   "cell_type": "code",
   "execution_count": 22,
   "metadata": {},
   "outputs": [
    {
     "ename": "ValueError",
     "evalue": "shapes (1,30000) and (1200,5) not aligned: 30000 (dim 1) != 1200 (dim 0)",
     "output_type": "error",
     "traceback": [
      "\u001b[0;31m---------------------------------------------------------------------------\u001b[0m",
      "\u001b[0;31mValueError\u001b[0m                                Traceback (most recent call last)",
      "\u001b[0;32m<ipython-input-22-a6a54ae6fd6d>\u001b[0m in \u001b[0;36m<module>\u001b[0;34m\u001b[0m\n\u001b[0;32m----> 1\u001b[0;31m \u001b[0mclassifier\u001b[0m\u001b[0;34m.\u001b[0m\u001b[0mpredict\u001b[0m\u001b[0;34m(\u001b[0m\u001b[0;34m[\u001b[0m\u001b[0mtestX\u001b[0m\u001b[0;34m]\u001b[0m\u001b[0;34m)\u001b[0m\u001b[0;34m\u001b[0m\u001b[0;34m\u001b[0m\u001b[0m\n\u001b[0m",
      "\u001b[0;32m~/anaconda3/lib/python3.7/site-packages/sklearn/neural_network/multilayer_perceptron.py\u001b[0m in \u001b[0;36mpredict\u001b[0;34m(self, X)\u001b[0m\n\u001b[1;32m    956\u001b[0m         \"\"\"\n\u001b[1;32m    957\u001b[0m         \u001b[0mcheck_is_fitted\u001b[0m\u001b[0;34m(\u001b[0m\u001b[0mself\u001b[0m\u001b[0;34m,\u001b[0m \u001b[0;34m\"coefs_\"\u001b[0m\u001b[0;34m)\u001b[0m\u001b[0;34m\u001b[0m\u001b[0;34m\u001b[0m\u001b[0m\n\u001b[0;32m--> 958\u001b[0;31m         \u001b[0my_pred\u001b[0m \u001b[0;34m=\u001b[0m \u001b[0mself\u001b[0m\u001b[0;34m.\u001b[0m\u001b[0m_predict\u001b[0m\u001b[0;34m(\u001b[0m\u001b[0mX\u001b[0m\u001b[0;34m)\u001b[0m\u001b[0;34m\u001b[0m\u001b[0;34m\u001b[0m\u001b[0m\n\u001b[0m\u001b[1;32m    959\u001b[0m \u001b[0;34m\u001b[0m\u001b[0m\n\u001b[1;32m    960\u001b[0m         \u001b[0;32mif\u001b[0m \u001b[0mself\u001b[0m\u001b[0;34m.\u001b[0m\u001b[0mn_outputs_\u001b[0m \u001b[0;34m==\u001b[0m \u001b[0;36m1\u001b[0m\u001b[0;34m:\u001b[0m\u001b[0;34m\u001b[0m\u001b[0;34m\u001b[0m\u001b[0m\n",
      "\u001b[0;32m~/anaconda3/lib/python3.7/site-packages/sklearn/neural_network/multilayer_perceptron.py\u001b[0m in \u001b[0;36m_predict\u001b[0;34m(self, X)\u001b[0m\n\u001b[1;32m    678\u001b[0m                                          layer_units[i + 1])))\n\u001b[1;32m    679\u001b[0m         \u001b[0;31m# forward propagate\u001b[0m\u001b[0;34m\u001b[0m\u001b[0;34m\u001b[0m\u001b[0;34m\u001b[0m\u001b[0m\n\u001b[0;32m--> 680\u001b[0;31m         \u001b[0mself\u001b[0m\u001b[0;34m.\u001b[0m\u001b[0m_forward_pass\u001b[0m\u001b[0;34m(\u001b[0m\u001b[0mactivations\u001b[0m\u001b[0;34m)\u001b[0m\u001b[0;34m\u001b[0m\u001b[0;34m\u001b[0m\u001b[0m\n\u001b[0m\u001b[1;32m    681\u001b[0m         \u001b[0my_pred\u001b[0m \u001b[0;34m=\u001b[0m \u001b[0mactivations\u001b[0m\u001b[0;34m[\u001b[0m\u001b[0;34m-\u001b[0m\u001b[0;36m1\u001b[0m\u001b[0;34m]\u001b[0m\u001b[0;34m\u001b[0m\u001b[0;34m\u001b[0m\u001b[0m\n\u001b[1;32m    682\u001b[0m \u001b[0;34m\u001b[0m\u001b[0m\n",
      "\u001b[0;32m~/anaconda3/lib/python3.7/site-packages/sklearn/neural_network/multilayer_perceptron.py\u001b[0m in \u001b[0;36m_forward_pass\u001b[0;34m(self, activations)\u001b[0m\n\u001b[1;32m     99\u001b[0m         \u001b[0;32mfor\u001b[0m \u001b[0mi\u001b[0m \u001b[0;32min\u001b[0m \u001b[0mrange\u001b[0m\u001b[0;34m(\u001b[0m\u001b[0mself\u001b[0m\u001b[0;34m.\u001b[0m\u001b[0mn_layers_\u001b[0m \u001b[0;34m-\u001b[0m \u001b[0;36m1\u001b[0m\u001b[0;34m)\u001b[0m\u001b[0;34m:\u001b[0m\u001b[0;34m\u001b[0m\u001b[0;34m\u001b[0m\u001b[0m\n\u001b[1;32m    100\u001b[0m             activations[i + 1] = safe_sparse_dot(activations[i],\n\u001b[0;32m--> 101\u001b[0;31m                                                  self.coefs_[i])\n\u001b[0m\u001b[1;32m    102\u001b[0m             \u001b[0mactivations\u001b[0m\u001b[0;34m[\u001b[0m\u001b[0mi\u001b[0m \u001b[0;34m+\u001b[0m \u001b[0;36m1\u001b[0m\u001b[0;34m]\u001b[0m \u001b[0;34m+=\u001b[0m \u001b[0mself\u001b[0m\u001b[0;34m.\u001b[0m\u001b[0mintercepts_\u001b[0m\u001b[0;34m[\u001b[0m\u001b[0mi\u001b[0m\u001b[0;34m]\u001b[0m\u001b[0;34m\u001b[0m\u001b[0;34m\u001b[0m\u001b[0m\n\u001b[1;32m    103\u001b[0m \u001b[0;34m\u001b[0m\u001b[0m\n",
      "\u001b[0;32m~/anaconda3/lib/python3.7/site-packages/sklearn/utils/extmath.py\u001b[0m in \u001b[0;36msafe_sparse_dot\u001b[0;34m(a, b, dense_output)\u001b[0m\n\u001b[1;32m    140\u001b[0m         \u001b[0;32mreturn\u001b[0m \u001b[0mret\u001b[0m\u001b[0;34m\u001b[0m\u001b[0;34m\u001b[0m\u001b[0m\n\u001b[1;32m    141\u001b[0m     \u001b[0;32melse\u001b[0m\u001b[0;34m:\u001b[0m\u001b[0;34m\u001b[0m\u001b[0;34m\u001b[0m\u001b[0m\n\u001b[0;32m--> 142\u001b[0;31m         \u001b[0;32mreturn\u001b[0m \u001b[0mnp\u001b[0m\u001b[0;34m.\u001b[0m\u001b[0mdot\u001b[0m\u001b[0;34m(\u001b[0m\u001b[0ma\u001b[0m\u001b[0;34m,\u001b[0m \u001b[0mb\u001b[0m\u001b[0;34m)\u001b[0m\u001b[0;34m\u001b[0m\u001b[0;34m\u001b[0m\u001b[0m\n\u001b[0m\u001b[1;32m    143\u001b[0m \u001b[0;34m\u001b[0m\u001b[0m\n\u001b[1;32m    144\u001b[0m \u001b[0;34m\u001b[0m\u001b[0m\n",
      "\u001b[0;32m<__array_function__ internals>\u001b[0m in \u001b[0;36mdot\u001b[0;34m(*args, **kwargs)\u001b[0m\n",
      "\u001b[0;31mValueError\u001b[0m: shapes (1,30000) and (1200,5) not aligned: 30000 (dim 1) != 1200 (dim 0)"
     ]
    }
   ],
   "source": [
    "classifier.predict([testX])               "
   ]
  },
  {
   "cell_type": "code",
   "execution_count": 23,
   "metadata": {},
   "outputs": [],
   "source": [
    "test2_table = pd.read_csv(\"/Users/asimbiswal/desktop/sachacks2020/csv/seconddegreeburn.csv\", header=None)"
   ]
  },
  {
   "cell_type": "code",
   "execution_count": 24,
   "metadata": {},
   "outputs": [],
   "source": [
    "test3_table = pd.read_csv(\"/Users/asimbiswal/desktop/sachacks2020/csv/sunburntest.csv\", header=None)"
   ]
  },
  {
   "cell_type": "code",
   "execution_count": 25,
   "metadata": {},
   "outputs": [],
   "source": [
    "testX2 = test2_table.values[0]"
   ]
  },
  {
   "cell_type": "code",
   "execution_count": 26,
   "metadata": {},
   "outputs": [],
   "source": [
    "testX3 = test3_table.values[0]"
   ]
  },
  {
   "cell_type": "code",
   "execution_count": 27,
   "metadata": {},
   "outputs": [
    {
     "ename": "ValueError",
     "evalue": "shapes (1,30000) and (1200,5) not aligned: 30000 (dim 1) != 1200 (dim 0)",
     "output_type": "error",
     "traceback": [
      "\u001b[0;31m---------------------------------------------------------------------------\u001b[0m",
      "\u001b[0;31mValueError\u001b[0m                                Traceback (most recent call last)",
      "\u001b[0;32m<ipython-input-27-8afa6a84a845>\u001b[0m in \u001b[0;36m<module>\u001b[0;34m\u001b[0m\n\u001b[0;32m----> 1\u001b[0;31m \u001b[0mclassifier\u001b[0m\u001b[0;34m.\u001b[0m\u001b[0mpredict\u001b[0m\u001b[0;34m(\u001b[0m\u001b[0;34m[\u001b[0m\u001b[0mtestX2\u001b[0m\u001b[0;34m]\u001b[0m\u001b[0;34m)\u001b[0m\u001b[0;34m\u001b[0m\u001b[0;34m\u001b[0m\u001b[0m\n\u001b[0m",
      "\u001b[0;32m~/anaconda3/lib/python3.7/site-packages/sklearn/neural_network/multilayer_perceptron.py\u001b[0m in \u001b[0;36mpredict\u001b[0;34m(self, X)\u001b[0m\n\u001b[1;32m    956\u001b[0m         \"\"\"\n\u001b[1;32m    957\u001b[0m         \u001b[0mcheck_is_fitted\u001b[0m\u001b[0;34m(\u001b[0m\u001b[0mself\u001b[0m\u001b[0;34m,\u001b[0m \u001b[0;34m\"coefs_\"\u001b[0m\u001b[0;34m)\u001b[0m\u001b[0;34m\u001b[0m\u001b[0;34m\u001b[0m\u001b[0m\n\u001b[0;32m--> 958\u001b[0;31m         \u001b[0my_pred\u001b[0m \u001b[0;34m=\u001b[0m \u001b[0mself\u001b[0m\u001b[0;34m.\u001b[0m\u001b[0m_predict\u001b[0m\u001b[0;34m(\u001b[0m\u001b[0mX\u001b[0m\u001b[0;34m)\u001b[0m\u001b[0;34m\u001b[0m\u001b[0;34m\u001b[0m\u001b[0m\n\u001b[0m\u001b[1;32m    959\u001b[0m \u001b[0;34m\u001b[0m\u001b[0m\n\u001b[1;32m    960\u001b[0m         \u001b[0;32mif\u001b[0m \u001b[0mself\u001b[0m\u001b[0;34m.\u001b[0m\u001b[0mn_outputs_\u001b[0m \u001b[0;34m==\u001b[0m \u001b[0;36m1\u001b[0m\u001b[0;34m:\u001b[0m\u001b[0;34m\u001b[0m\u001b[0;34m\u001b[0m\u001b[0m\n",
      "\u001b[0;32m~/anaconda3/lib/python3.7/site-packages/sklearn/neural_network/multilayer_perceptron.py\u001b[0m in \u001b[0;36m_predict\u001b[0;34m(self, X)\u001b[0m\n\u001b[1;32m    678\u001b[0m                                          layer_units[i + 1])))\n\u001b[1;32m    679\u001b[0m         \u001b[0;31m# forward propagate\u001b[0m\u001b[0;34m\u001b[0m\u001b[0;34m\u001b[0m\u001b[0;34m\u001b[0m\u001b[0m\n\u001b[0;32m--> 680\u001b[0;31m         \u001b[0mself\u001b[0m\u001b[0;34m.\u001b[0m\u001b[0m_forward_pass\u001b[0m\u001b[0;34m(\u001b[0m\u001b[0mactivations\u001b[0m\u001b[0;34m)\u001b[0m\u001b[0;34m\u001b[0m\u001b[0;34m\u001b[0m\u001b[0m\n\u001b[0m\u001b[1;32m    681\u001b[0m         \u001b[0my_pred\u001b[0m \u001b[0;34m=\u001b[0m \u001b[0mactivations\u001b[0m\u001b[0;34m[\u001b[0m\u001b[0;34m-\u001b[0m\u001b[0;36m1\u001b[0m\u001b[0;34m]\u001b[0m\u001b[0;34m\u001b[0m\u001b[0;34m\u001b[0m\u001b[0m\n\u001b[1;32m    682\u001b[0m \u001b[0;34m\u001b[0m\u001b[0m\n",
      "\u001b[0;32m~/anaconda3/lib/python3.7/site-packages/sklearn/neural_network/multilayer_perceptron.py\u001b[0m in \u001b[0;36m_forward_pass\u001b[0;34m(self, activations)\u001b[0m\n\u001b[1;32m     99\u001b[0m         \u001b[0;32mfor\u001b[0m \u001b[0mi\u001b[0m \u001b[0;32min\u001b[0m \u001b[0mrange\u001b[0m\u001b[0;34m(\u001b[0m\u001b[0mself\u001b[0m\u001b[0;34m.\u001b[0m\u001b[0mn_layers_\u001b[0m \u001b[0;34m-\u001b[0m \u001b[0;36m1\u001b[0m\u001b[0;34m)\u001b[0m\u001b[0;34m:\u001b[0m\u001b[0;34m\u001b[0m\u001b[0;34m\u001b[0m\u001b[0m\n\u001b[1;32m    100\u001b[0m             activations[i + 1] = safe_sparse_dot(activations[i],\n\u001b[0;32m--> 101\u001b[0;31m                                                  self.coefs_[i])\n\u001b[0m\u001b[1;32m    102\u001b[0m             \u001b[0mactivations\u001b[0m\u001b[0;34m[\u001b[0m\u001b[0mi\u001b[0m \u001b[0;34m+\u001b[0m \u001b[0;36m1\u001b[0m\u001b[0;34m]\u001b[0m \u001b[0;34m+=\u001b[0m \u001b[0mself\u001b[0m\u001b[0;34m.\u001b[0m\u001b[0mintercepts_\u001b[0m\u001b[0;34m[\u001b[0m\u001b[0mi\u001b[0m\u001b[0;34m]\u001b[0m\u001b[0;34m\u001b[0m\u001b[0;34m\u001b[0m\u001b[0m\n\u001b[1;32m    103\u001b[0m \u001b[0;34m\u001b[0m\u001b[0m\n",
      "\u001b[0;32m~/anaconda3/lib/python3.7/site-packages/sklearn/utils/extmath.py\u001b[0m in \u001b[0;36msafe_sparse_dot\u001b[0;34m(a, b, dense_output)\u001b[0m\n\u001b[1;32m    140\u001b[0m         \u001b[0;32mreturn\u001b[0m \u001b[0mret\u001b[0m\u001b[0;34m\u001b[0m\u001b[0;34m\u001b[0m\u001b[0m\n\u001b[1;32m    141\u001b[0m     \u001b[0;32melse\u001b[0m\u001b[0;34m:\u001b[0m\u001b[0;34m\u001b[0m\u001b[0;34m\u001b[0m\u001b[0m\n\u001b[0;32m--> 142\u001b[0;31m         \u001b[0;32mreturn\u001b[0m \u001b[0mnp\u001b[0m\u001b[0;34m.\u001b[0m\u001b[0mdot\u001b[0m\u001b[0;34m(\u001b[0m\u001b[0ma\u001b[0m\u001b[0;34m,\u001b[0m \u001b[0mb\u001b[0m\u001b[0;34m)\u001b[0m\u001b[0;34m\u001b[0m\u001b[0;34m\u001b[0m\u001b[0m\n\u001b[0m\u001b[1;32m    143\u001b[0m \u001b[0;34m\u001b[0m\u001b[0m\n\u001b[1;32m    144\u001b[0m \u001b[0;34m\u001b[0m\u001b[0m\n",
      "\u001b[0;32m<__array_function__ internals>\u001b[0m in \u001b[0;36mdot\u001b[0;34m(*args, **kwargs)\u001b[0m\n",
      "\u001b[0;31mValueError\u001b[0m: shapes (1,30000) and (1200,5) not aligned: 30000 (dim 1) != 1200 (dim 0)"
     ]
    }
   ],
   "source": [
    "classifier.predict([testX2])               "
   ]
  },
  {
   "cell_type": "code",
   "execution_count": null,
   "metadata": {},
   "outputs": [],
   "source": [
    "classifier.predict([testX3])               "
   ]
  },
  {
   "cell_type": "code",
   "execution_count": null,
   "metadata": {},
   "outputs": [],
   "source": [
    "X = []\n",
    "X.extend(X1)\n",
    "X.extend(X2)\n",
    "X.extend(X3)\n",
    "y = []\n",
    "y.extend(Y1)\n",
    "y.extend(Y2)\n",
    "y.extend(Y3)\n",
    "# first layer 5 nodes, second is 2 nodes\n",
    "classifier = MLPClassifier(solver='lbfgs', alpha=1e-5,\n",
    "                            hidden_layer_sizes=(300, 50), random_state=1)\n",
    "                            \n",
    "classifier.fit(X, y)"
   ]
  },
  {
   "cell_type": "code",
   "execution_count": null,
   "metadata": {},
   "outputs": [],
   "source": [
    "classifier.predict([testX])               "
   ]
  },
  {
   "cell_type": "code",
   "execution_count": 28,
   "metadata": {},
   "outputs": [],
   "source": [
    "from sklearn.model_selection import train_test_split"
   ]
  },
  {
   "cell_type": "code",
   "execution_count": 29,
   "metadata": {},
   "outputs": [],
   "source": [
    "test_set = []\n",
    "test_set.extend(testX)\n",
    "test_set.extend(testX2)\n",
    "test_set.extend(testX3)"
   ]
  },
  {
   "cell_type": "code",
   "execution_count": 30,
   "metadata": {},
   "outputs": [],
   "source": [
    "X_train, X_test, y_train, y_test = train_test_split(\n",
    "    X, y, test_size=0.5, shuffle=False)"
   ]
  },
  {
   "cell_type": "code",
   "execution_count": null,
   "metadata": {},
   "outputs": [],
   "source": [
    "X_train, X_test, y_train, y_test = train_test_split(\n",
    "    X, y, test_size=0.5)"
   ]
  },
  {
   "cell_type": "code",
   "execution_count": null,
   "metadata": {},
   "outputs": [],
   "source": [
    "classifier.fit(X_train, y_train)"
   ]
  },
  {
   "cell_type": "code",
   "execution_count": null,
   "metadata": {},
   "outputs": [],
   "source": [
    "predicted_test = classifier.predict(X_test)\n"
   ]
  },
  {
   "cell_type": "code",
   "execution_count": null,
   "metadata": {},
   "outputs": [],
   "source": [
    "from sklearn.metrics import accuracy_score"
   ]
  },
  {
   "cell_type": "code",
   "execution_count": null,
   "metadata": {},
   "outputs": [],
   "source": [
    "accuracy_score(y_test, predicted_test)"
   ]
  },
  {
   "cell_type": "code",
   "execution_count": null,
   "metadata": {},
   "outputs": [],
   "source": [
    "predicted_train = classifier.predict(X_train)"
   ]
  },
  {
   "cell_type": "code",
   "execution_count": null,
   "metadata": {},
   "outputs": [],
   "source": [
    "accuracy_score(y_train, predicted_train)"
   ]
  },
  {
   "cell_type": "code",
   "execution_count": null,
   "metadata": {},
   "outputs": [],
   "source": [
    "import pickle\n",
    "s = pickle.dumps(classifier)\n",
    "classifier2 = pickle.loads(s)"
   ]
  },
  {
   "cell_type": "code",
   "execution_count": null,
   "metadata": {},
   "outputs": [],
   "source": [
    "pickle.dump(classifier, open('model2.py', 'wb'))"
   ]
  },
  {
   "cell_type": "code",
   "execution_count": null,
   "metadata": {},
   "outputs": [],
   "source": [
    "classifier"
   ]
  },
  {
   "cell_type": "code",
   "execution_count": null,
   "metadata": {},
   "outputs": [],
   "source": [
    "from joblib import dump, load\n",
    "dump(classifier, 'model.joblib')"
   ]
  },
  {
   "cell_type": "code",
   "execution_count": null,
   "metadata": {},
   "outputs": [],
   "source": [
    "f = open('model2.py', 'rb')\n",
    "cl = pickle.load(f)"
   ]
  },
  {
   "cell_type": "code",
   "execution_count": null,
   "metadata": {},
   "outputs": [],
   "source": [
    "cl\n"
   ]
  },
  {
   "cell_type": "code",
   "execution_count": null,
   "metadata": {},
   "outputs": [],
   "source": []
  }
 ],
 "metadata": {
  "kernelspec": {
   "display_name": "Python 3",
   "language": "python",
   "name": "python3"
  },
  "language_info": {
   "codemirror_mode": {
    "name": "ipython",
    "version": 3
   },
   "file_extension": ".py",
   "mimetype": "text/x-python",
   "name": "python",
   "nbconvert_exporter": "python",
   "pygments_lexer": "ipython3",
   "version": "3.7.3"
  }
 },
 "nbformat": 4,
 "nbformat_minor": 2
}
