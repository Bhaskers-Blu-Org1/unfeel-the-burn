{
 "cells": [
  {
   "cell_type": "code",
   "execution_count": 1,
   "metadata": {
    "collapsed": false
   },
   "outputs": [],
   "source": [
    "from sklearn.neural_network import MLPClassifier\n",
    "\n",
    "model = MLPClassifier(hidden_layer_sizes=(50,), max_iter=1000, alpha=1e-4,\n",
    "                      solver='sgd', tol=1e-4, random_state=1,\n",
    "                      learning_rate_init=.1)"
   ]
  },
  {
   "cell_type": "code",
   "execution_count": 2,
   "metadata": {
    "collapsed": false
   },
   "outputs": [
    {
     "data": {
      "text/plain": [
       "MLPClassifier(activation='relu', alpha=1e-05, batch_size='auto', beta_1=0.9,\n",
       "       beta_2=0.999, early_stopping=False, epsilon=1e-08,\n",
       "       hidden_layer_sizes=(5, 2), learning_rate='constant',\n",
       "       learning_rate_init=0.001, max_iter=200, momentum=0.9,\n",
       "       nesterovs_momentum=True, power_t=0.5, random_state=1, shuffle=True,\n",
       "       solver='lbfgs', tol=0.0001, validation_fraction=0.1, verbose=False,\n",
       "       warm_start=False)"
      ]
     },
     "execution_count": 2,
     "metadata": {},
     "output_type": "execute_result"
    }
   ],
   "source": [
    "X = [[1], [2], [3]]\n",
    "y = ['superficial_dermal', 'partial_thickness', 'full_thickness']\n",
    "# first layer 5 nodes, second is 2 nodes\n",
    "classifier = MLPClassifier(solver='lbfgs', alpha=1e-5,\n",
    "                            hidden_layer_sizes=(5, 2), random_state=1)\n",
    "                            \n",
    "classifier.fit(X, y)"
   ]
  },
  {
   "cell_type": "code",
   "execution_count": 3,
   "metadata": {
    "collapsed": false
   },
   "outputs": [
    {
     "data": {
      "text/plain": [
       "array(['superficial_dermal', 'full_thickness'], \n",
       "      dtype='>U18')"
      ]
     },
     "execution_count": 3,
     "metadata": {},
     "output_type": "execute_result"
    }
   ],
   "source": [
    "classifier.predict([[1], [4]])               "
   ]
  },
  {
   "cell_type": "code",
   "execution_count": 4,
   "metadata": {
    "collapsed": false
   },
   "outputs": [
    {
     "data": {
      "text/html": [
       "<div>\n",
       "<table border=\"1\" class=\"dataframe\">\n",
       "  <thead>\n",
       "    <tr style=\"text-align: right;\">\n",
       "      <th></th>\n",
       "      <th>203.3000000000001</th>\n",
       "      <th>182.3000000000001</th>\n",
       "      <th>215.3000000000001</th>\n",
       "      <th>207.0</th>\n",
       "      <th>184.40149999999994</th>\n",
       "      <th>215.0999999999999</th>\n",
       "      <th>204.4999999999999</th>\n",
       "      <th>179.83249999999995</th>\n",
       "      <th>209.4999999999999</th>\n",
       "      <th>203.32999999999998</th>\n",
       "      <th>...</th>\n",
       "      <th>137.43499999999983</th>\n",
       "      <th>152.0.3</th>\n",
       "      <th>125.49999999999989</th>\n",
       "      <th>136.16749999999993</th>\n",
       "      <th>148.2349999999998</th>\n",
       "      <th>123.33499999999992</th>\n",
       "      <th>134.33499999999992</th>\n",
       "      <th>143.63499999999976</th>\n",
       "      <th>122.33499999999992</th>\n",
       "      <th>131.63499999999976</th>\n",
       "    </tr>\n",
       "  </thead>\n",
       "  <tbody>\n",
       "  </tbody>\n",
       "</table>\n",
       "<p>0 rows × 30000 columns</p>\n",
       "</div>"
      ],
      "text/plain": [
       "Empty DataFrame\n",
       "Columns: [203.3000000000001, 182.3000000000001, 215.3000000000001, 207.0, 184.40149999999994, 215.0999999999999, 204.4999999999999, 179.83249999999995, 209.4999999999999, 203.32999999999998, 180.36350000000002, 205.63149999999996, 201.665, 178.665, 204.36500000000007, 206.3000000000001, 184.3000000000001, 215.3000000000001.1, 207.0.1, 188.0, 218.0, 212.1650000000001, 193.1650000000001, 223.1650000000001, 214.0, 194.89999999999992, 223.8999999999999, 214.7000000000001, 194.80050000000006, 224.50050000000016, 224.3000000000001, 206.40050000000014, 237.93500000000023, 224.67000000000002, 208.63650000000004, 241.26850000000007, 230.66750000000013, 216.00000000000023, 245.5000000000001, 235.1000000000001, 221.1000000000001, 246.0, 241.03500000000008, 226.7000000000001, 248.7000000000001, 241.23449999999997, 226.23449999999997, 249.0, 238.06649999999993, 223.0, 247.665, 239.66750000000013, 226.1675000000002, 245.335, 244.30149999999998, 232.0, 247.40150000000008, 239.2999999999999, 226.2999999999999, 247.7000000000001, 239.30000000000013, 225.3000000000001, 248.0, 243.9000000000001, 232.80000000000018, 248.0.1, 248.4999999999999, 241.5000000000001, 249.4999999999999, 247.335, 241.2349999999999, 248.335, 247.0, 234.63499999999993, 246.10049999999995, 247.665.1, 230.89949999999996, 248.19950000000006, 241.16649999999981, 226.0999999999999, 246.0999999999999, 240.33250000000015, 232.1650000000003, 244.1650000000001, 248.0.2, 243.59849999999992, 248.0.3, 243.96499999999992, 230.8999999999997, 243.2999999999999, 243.76550000000003, 225.665, 243.96500000000012, 242.0, 223.665, 241.0999999999999, 247.0.1, 234.00000000000023, 246.5000000000001, 247.03350000000003, ...]\n",
       "Index: []\n",
       "\n",
       "[0 rows x 30000 columns]"
      ]
     },
     "execution_count": 4,
     "metadata": {},
     "output_type": "execute_result"
    }
   ],
   "source": [
    "import pandas as pd \n",
    "pd.read_csv(\"/home/spk21f9/smaller.csv\")"
   ]
  },
  {
   "cell_type": "code",
   "execution_count": 5,
   "metadata": {
    "collapsed": false
   },
   "outputs": [
    {
     "data": {
      "text/plain": [
       "'/home/spk21f9'"
      ]
     },
     "execution_count": 5,
     "metadata": {},
     "output_type": "execute_result"
    }
   ],
   "source": [
    "pwd%"
   ]
  },
  {
   "cell_type": "code",
   "execution_count": 14,
   "metadata": {
    "collapsed": false
   },
   "outputs": [],
   "source": [
    "table = pd.read_csv(\"/home/spk21f9/smaller.csv\", header=None)"
   ]
  },
  {
   "cell_type": "code",
   "execution_count": 19,
   "metadata": {
    "collapsed": true
   },
   "outputs": [],
   "source": [
    "array1 = table.values[0]"
   ]
  },
  {
   "cell_type": "code",
   "execution_count": 20,
   "metadata": {
    "collapsed": false
   },
   "outputs": [
    {
     "data": {
      "text/plain": [
       "array([ 203.3  ,  182.3  ,  215.3  , ...,  143.635,  122.335,  131.635])"
      ]
     },
     "execution_count": 20,
     "metadata": {},
     "output_type": "execute_result"
    }
   ],
   "source": [
    "array1"
   ]
  },
  {
   "cell_type": "code",
   "execution_count": 21,
   "metadata": {
    "collapsed": false
   },
   "outputs": [
    {
     "data": {
      "text/plain": [
       "30000"
      ]
     },
     "execution_count": 21,
     "metadata": {},
     "output_type": "execute_result"
    }
   ],
   "source": [
    "len(array1)"
   ]
  },
  {
   "cell_type": "code",
   "execution_count": 22,
   "metadata": {
    "collapsed": false
   },
   "outputs": [
    {
     "data": {
      "text/plain": [
       "MLPClassifier(activation='relu', alpha=1e-05, batch_size='auto', beta_1=0.9,\n",
       "       beta_2=0.999, early_stopping=False, epsilon=1e-08,\n",
       "       hidden_layer_sizes=(5, 2), learning_rate='constant',\n",
       "       learning_rate_init=0.001, max_iter=200, momentum=0.9,\n",
       "       nesterovs_momentum=True, power_t=0.5, random_state=1, shuffle=True,\n",
       "       solver='lbfgs', tol=0.0001, validation_fraction=0.1, verbose=False,\n",
       "       warm_start=False)"
      ]
     },
     "execution_count": 22,
     "metadata": {},
     "output_type": "execute_result"
    }
   ],
   "source": [
    "X = [array1, array1, array1]\n",
    "y = ['superficial_dermal', 'partial_thickness', 'full_thickness']\n",
    "# first layer 5 nodes, second is 2 nodes\n",
    "classifier = MLPClassifier(solver='lbfgs', alpha=1e-5,\n",
    "                            hidden_layer_sizes=(5, 2), random_state=1)\n",
    "                            \n",
    "classifier.fit(X, y)"
   ]
  },
  {
   "cell_type": "code",
   "execution_count": 25,
   "metadata": {
    "collapsed": false
   },
   "outputs": [
    {
     "data": {
      "text/plain": [
       "array(['superficial_dermal'], \n",
       "      dtype='>U18')"
      ]
     },
     "execution_count": 25,
     "metadata": {},
     "output_type": "execute_result"
    }
   ],
   "source": [
    "classifier.predict([array1])               "
   ]
  },
  {
   "cell_type": "code",
   "execution_count": 12,
   "metadata": {
    "collapsed": false
   },
   "outputs": [
    {
     "data": {
      "text/plain": [
       "0"
      ]
     },
     "execution_count": 12,
     "metadata": {},
     "output_type": "execute_result"
    }
   ],
   "source": []
  },
  {
   "cell_type": "code",
   "execution_count": null,
   "metadata": {
    "collapsed": true
   },
   "outputs": [],
   "source": []
  }
 ],
 "metadata": {
  "kernelspec": {
   "display_name": "Python 3",
   "language": "python",
   "name": "python3"
  },
  "language_info": {
   "codemirror_mode": {
    "name": "ipython",
    "version": 3
   },
   "file_extension": ".py",
   "mimetype": "text/x-python",
   "name": "python",
   "nbconvert_exporter": "python",
   "pygments_lexer": "ipython3",
   "version": "3.6.1"
  }
 },
 "nbformat": 4,
 "nbformat_minor": 2
}
