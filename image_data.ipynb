{
 "cells": [
  {
   "cell_type": "code",
   "execution_count": 1,
   "metadata": {},
   "outputs": [],
   "source": [
    "import pandas as pd\n",
    "from sklearn.neural_network import MLPClassifier\n",
    "\n",
    "model = MLPClassifier(hidden_layer_sizes=(50,), max_iter=1000, alpha=1e-4,\n",
    "                      solver='sgd', tol=1e-4, random_state=1,\n",
    "                      learning_rate_init=.1)"
   ]
  },
  {
   "cell_type": "code",
   "execution_count": 2,
   "metadata": {},
   "outputs": [
    {
     "data": {
      "text/plain": [
       "MLPClassifier(activation='relu', alpha=1e-05, batch_size='auto', beta_1=0.9,\n",
       "              beta_2=0.999, early_stopping=False, epsilon=1e-08,\n",
       "              hidden_layer_sizes=(5, 2), learning_rate='constant',\n",
       "              learning_rate_init=0.001, max_iter=200, momentum=0.9,\n",
       "              n_iter_no_change=10, nesterovs_momentum=True, power_t=0.5,\n",
       "              random_state=1, shuffle=True, solver='lbfgs', tol=0.0001,\n",
       "              validation_fraction=0.1, verbose=False, warm_start=False)"
      ]
     },
     "execution_count": 2,
     "metadata": {},
     "output_type": "execute_result"
    }
   ],
   "source": [
    "X = [[1], [2], [3]]\n",
    "y = ['superficial_dermal', 'partial_thickness', 'full_thickness']\n",
    "# first layer 5 nodes, second is 2 nodes\n",
    "classifier = MLPClassifier(solver='lbfgs', alpha=1e-5,\n",
    "                            hidden_layer_sizes=(5, 2), random_state=1)\n",
    "                            \n",
    "classifier.fit(X, y)"
   ]
  },
  {
   "cell_type": "code",
   "execution_count": 3,
   "metadata": {},
   "outputs": [
    {
     "data": {
      "text/plain": [
       "array(['superficial_dermal', 'full_thickness'], dtype='<U18')"
      ]
     },
     "execution_count": 3,
     "metadata": {},
     "output_type": "execute_result"
    }
   ],
   "source": [
    "classifier.predict([[1], [4]])               "
   ]
  },
  {
   "cell_type": "code",
   "execution_count": 4,
   "metadata": {},
   "outputs": [],
   "source": [
    "full_thickness_table = pd.read_csv(\"/Users/asimbiswal/desktop/sachacks2020/images/full_thickness/full_thickness.csv\", header=None)"
   ]
  },
  {
   "cell_type": "code",
   "execution_count": 5,
   "metadata": {},
   "outputs": [],
   "source": [
    "X1 = full_thickness_table.values\n",
    "Y1 = ['full_thickness'] * len(full_thickness_table.values)"
   ]
  },
  {
   "cell_type": "code",
   "execution_count": 6,
   "metadata": {},
   "outputs": [
    {
     "data": {
      "text/plain": [
       "array([[203, 182, 215, ..., 143, 122, 131],\n",
       "       [122, 131, 138, ..., 119, 124, 130],\n",
       "       [ 19,  20,  24, ...,  71,  96, 142],\n",
       "       ...,\n",
       "       [ 11,  28,  33, ...,  95,  87,  85],\n",
       "       [ 34,  33,  34, ..., 124, 104,  79],\n",
       "       [ 41,  64, 103, ...,  85,  95, 130]])"
      ]
     },
     "execution_count": 6,
     "metadata": {},
     "output_type": "execute_result"
    }
   ],
   "source": [
    "X1"
   ]
  },
  {
   "cell_type": "code",
   "execution_count": 7,
   "metadata": {},
   "outputs": [
    {
     "data": {
      "text/plain": [
       "['full_thickness',\n",
       " 'full_thickness',\n",
       " 'full_thickness',\n",
       " 'full_thickness',\n",
       " 'full_thickness',\n",
       " 'full_thickness',\n",
       " 'full_thickness',\n",
       " 'full_thickness',\n",
       " 'full_thickness']"
      ]
     },
     "execution_count": 7,
     "metadata": {},
     "output_type": "execute_result"
    }
   ],
   "source": [
    "Y1"
   ]
  },
  {
   "cell_type": "code",
   "execution_count": 8,
   "metadata": {},
   "outputs": [],
   "source": [
    "partial_thickness_table = pd.read_csv(\"/Users/asimbiswal/desktop/sachacks2020/images/partial_thickness/partial_thickness.csv\", header=None)"
   ]
  },
  {
   "cell_type": "code",
   "execution_count": 9,
   "metadata": {},
   "outputs": [],
   "source": [
    "X2 = partial_thickness_table.values\n",
    "Y2 = ['partial_thickness'] * len(partial_thickness_table.values)"
   ]
  },
  {
   "cell_type": "code",
   "execution_count": 10,
   "metadata": {},
   "outputs": [
    {
     "data": {
      "text/plain": [
       "array([[  2,   2,   2, ..., 147, 170, 188],\n",
       "       [  3,   3,   3, ...,   3,   3,   3]])"
      ]
     },
     "execution_count": 10,
     "metadata": {},
     "output_type": "execute_result"
    }
   ],
   "source": [
    "X2"
   ]
  },
  {
   "cell_type": "code",
   "execution_count": 11,
   "metadata": {},
   "outputs": [
    {
     "data": {
      "text/plain": [
       "['partial_thickness', 'partial_thickness']"
      ]
     },
     "execution_count": 11,
     "metadata": {},
     "output_type": "execute_result"
    }
   ],
   "source": [
    "Y2"
   ]
  },
  {
   "cell_type": "code",
   "execution_count": 12,
   "metadata": {},
   "outputs": [],
   "source": [
    "superficial_table = pd.read_csv(\"/Users/asimbiswal/desktop/sachacks2020/images/superficial_dermal/superficial_dermal.csv\", header=None)"
   ]
  },
  {
   "cell_type": "code",
   "execution_count": 13,
   "metadata": {},
   "outputs": [],
   "source": [
    "X3 = superficial_table.values\n",
    "Y3 = ['superficial_dermal'] * len(superficial_table.values)"
   ]
  },
  {
   "cell_type": "code",
   "execution_count": 14,
   "metadata": {},
   "outputs": [
    {
     "data": {
      "text/plain": [
       "array([[253, 253, 254, ..., 109,  33,  19],\n",
       "       [242, 242, 244, ..., 204, 167, 159],\n",
       "       [255, 255, 255, ..., 255, 255, 254],\n",
       "       [  0,   0,   0, ...,   0,   0,   0]])"
      ]
     },
     "execution_count": 14,
     "metadata": {},
     "output_type": "execute_result"
    }
   ],
   "source": [
    "X3"
   ]
  },
  {
   "cell_type": "code",
   "execution_count": 15,
   "metadata": {},
   "outputs": [
    {
     "data": {
      "text/plain": [
       "['superficial_dermal',\n",
       " 'superficial_dermal',\n",
       " 'superficial_dermal',\n",
       " 'superficial_dermal']"
      ]
     },
     "execution_count": 15,
     "metadata": {},
     "output_type": "execute_result"
    }
   ],
   "source": [
    "Y3"
   ]
  },
  {
   "cell_type": "code",
   "execution_count": 16,
   "metadata": {},
   "outputs": [],
   "source": [
    "import pandas as pd\n",
    "table_sd1to7 = pd.read_csv(\"/Users/asimbiswal/desktop/sachacks2020/csv/sd1to7.csv\", header=None)"
   ]
  },
  {
   "cell_type": "code",
   "execution_count": 17,
   "metadata": {},
   "outputs": [],
   "source": [
    "X_sd1to7 = table_sd1to7.values\n",
    "Y_sd1to7 = ['superficial_dermal'] * len(table_sd1to7.values)"
   ]
  },
  {
   "cell_type": "code",
   "execution_count": 18,
   "metadata": {},
   "outputs": [],
   "source": [
    "table_ft1to3 = pd.read_csv(\"/Users/asimbiswal/desktop/sachacks2020/csv/ft1to3.csv\", header=None)"
   ]
  },
  {
   "cell_type": "code",
   "execution_count": 19,
   "metadata": {},
   "outputs": [],
   "source": [
    "X_ft1to3 = table_ft1to3.values\n",
    "Y_ft1to3 = ['full_thickness'] * len(table_ft1to3.values)"
   ]
  },
  {
   "cell_type": "code",
   "execution_count": 20,
   "metadata": {},
   "outputs": [],
   "source": [
    "table_pt1to12 = pd.read_csv(\"/Users/asimbiswal/desktop/sachacks2020/csv/pt1to12.csv\", header=None)"
   ]
  },
  {
   "cell_type": "code",
   "execution_count": 21,
   "metadata": {},
   "outputs": [],
   "source": [
    "X_pt1to12 = table_pt1to12.values\n",
    "Y_pt1to12 = ['partial_thickness'] * len(table_pt1to12.values)"
   ]
  },
  {
   "cell_type": "code",
   "execution_count": 22,
   "metadata": {},
   "outputs": [
    {
     "data": {
      "text/plain": [
       "MLPClassifier(activation='relu', alpha=1e-05, batch_size='auto', beta_1=0.9,\n",
       "              beta_2=0.999, early_stopping=False, epsilon=1e-08,\n",
       "              hidden_layer_sizes=(5, 2), learning_rate='constant',\n",
       "              learning_rate_init=0.001, max_iter=200, momentum=0.9,\n",
       "              n_iter_no_change=10, nesterovs_momentum=True, power_t=0.5,\n",
       "              random_state=1, shuffle=True, solver='lbfgs', tol=0.0001,\n",
       "              validation_fraction=0.1, verbose=False, warm_start=False)"
      ]
     },
     "execution_count": 22,
     "metadata": {},
     "output_type": "execute_result"
    }
   ],
   "source": [
    "X = []\n",
    "X.extend(X1)\n",
    "X.extend(X2)\n",
    "X.extend(X3)\n",
    "X.extend(X_sd1to7)\n",
    "X.extend(X_ft1to3)\n",
    "X.extend(X_pt1to12)\n",
    "y = []\n",
    "y.extend(Y1)\n",
    "y.extend(Y2)\n",
    "y.extend(Y3)\n",
    "y.extend(Y_sd1to7)\n",
    "y.extend(Y_ft1to3)\n",
    "y.extend(Y_pt1to12)\n",
    "# first layer 5 nodes, second is 2 nodes\n",
    "classifier = MLPClassifier(solver='lbfgs', alpha=1e-5,\n",
    "                            hidden_layer_sizes=(5, 2), random_state=1)\n",
    "                            \n",
    "classifier.fit(X, y)"
   ]
  },
  {
   "cell_type": "code",
   "execution_count": 23,
   "metadata": {},
   "outputs": [
    {
     "data": {
      "text/plain": [
       "['full_thickness',\n",
       " 'full_thickness',\n",
       " 'full_thickness',\n",
       " 'full_thickness',\n",
       " 'full_thickness',\n",
       " 'full_thickness',\n",
       " 'full_thickness',\n",
       " 'full_thickness',\n",
       " 'full_thickness',\n",
       " 'partial_thickness',\n",
       " 'partial_thickness',\n",
       " 'superficial_dermal',\n",
       " 'superficial_dermal',\n",
       " 'superficial_dermal',\n",
       " 'superficial_dermal',\n",
       " 'superficial_dermal',\n",
       " 'superficial_dermal',\n",
       " 'superficial_dermal',\n",
       " 'superficial_dermal',\n",
       " 'superficial_dermal',\n",
       " 'superficial_dermal',\n",
       " 'superficial_dermal',\n",
       " 'full_thickness',\n",
       " 'full_thickness',\n",
       " 'full_thickness',\n",
       " 'partial_thickness',\n",
       " 'partial_thickness',\n",
       " 'partial_thickness',\n",
       " 'partial_thickness',\n",
       " 'partial_thickness',\n",
       " 'partial_thickness',\n",
       " 'partial_thickness',\n",
       " 'partial_thickness',\n",
       " 'partial_thickness',\n",
       " 'partial_thickness',\n",
       " 'partial_thickness',\n",
       " 'partial_thickness']"
      ]
     },
     "execution_count": 23,
     "metadata": {},
     "output_type": "execute_result"
    }
   ],
   "source": [
    "y"
   ]
  },
  {
   "cell_type": "code",
   "execution_count": 24,
   "metadata": {},
   "outputs": [
    {
     "data": {
      "text/plain": [
       "[array([203, 182, 215, ..., 143, 122, 131]),\n",
       " array([122, 131, 138, ..., 119, 124, 130]),\n",
       " array([ 19,  20,  24, ...,  71,  96, 142]),\n",
       " array([190, 200, 227, ..., 202, 203, 227]),\n",
       " array([ 59,  79, 103, ...,  20,  22,  27]),\n",
       " array([ 3,  3,  3, ..., 83, 46, 53]),\n",
       " array([11, 28, 33, ..., 95, 87, 85]),\n",
       " array([ 34,  33,  34, ..., 124, 104,  79]),\n",
       " array([ 41,  64, 103, ...,  85,  95, 130]),\n",
       " array([  2,   2,   2, ..., 147, 170, 188]),\n",
       " array([3, 3, 3, ..., 3, 3, 3]),\n",
       " array([253, 253, 254, ..., 109,  33,  19]),\n",
       " array([242, 242, 244, ..., 204, 167, 159]),\n",
       " array([255, 255, 255, ..., 255, 255, 254]),\n",
       " array([0, 0, 0, ..., 0, 0, 0]),\n",
       " array([ 61,  81, 152, ...,  27,  42, 111]),\n",
       " array([202, 230, 251, ..., 122, 155, 196]),\n",
       " array([237, 226, 217, ..., 135,  76,  46]),\n",
       " array([165, 133,  88, ...,  18,  25,  33]),\n",
       " array([152, 116,  82, ...,   3,   2,   0]),\n",
       " array([255, 255, 255, ..., 252, 252, 252]),\n",
       " array([211, 148, 121, ..., 214, 119, 102]),\n",
       " array([168, 218, 206, ..., 156, 213, 198]),\n",
       " array([ 62, 118, 195, ...,  31,  94, 172]),\n",
       " array([124, 100,  65, ..., 165, 136, 105]),\n",
       " array([246, 214, 205, ..., 220, 170, 135]),\n",
       " array([221, 132, 110, ..., 245, 186, 156]),\n",
       " array([200, 129, 127, ..., 223, 183, 184]),\n",
       " array([122,  88,  64, ..., 112, 109, 102]),\n",
       " array([100,  67,  53, ...,  17,  21,  22]),\n",
       " array([ 70, 100, 136, ..., 201, 122, 107]),\n",
       " array([224, 198, 185, ...,   4,  10,  25]),\n",
       " array([120,  83,  53, ..., 153,  74,  72]),\n",
       " array([76, 65, 57, ..., 29, 14,  9]),\n",
       " array([210, 169, 139, ..., 182, 128, 102]),\n",
       " array([190, 187, 183, ...,  34,  18,   2]),\n",
       " array([184, 163, 179, ..., 153,  95, 109])]"
      ]
     },
     "execution_count": 24,
     "metadata": {},
     "output_type": "execute_result"
    }
   ],
   "source": [
    "X"
   ]
  },
  {
   "cell_type": "code",
   "execution_count": 25,
   "metadata": {},
   "outputs": [
    {
     "data": {
      "text/plain": [
       "array(['partial_thickness', 'partial_thickness', 'partial_thickness',\n",
       "       'partial_thickness', 'partial_thickness', 'partial_thickness',\n",
       "       'partial_thickness', 'partial_thickness', 'partial_thickness'],\n",
       "      dtype='<U18')"
      ]
     },
     "execution_count": 25,
     "metadata": {},
     "output_type": "execute_result"
    }
   ],
   "source": [
    "classifier.predict(X1)               "
   ]
  },
  {
   "cell_type": "code",
   "execution_count": 26,
   "metadata": {},
   "outputs": [],
   "source": [
    "test_table = pd.read_csv(\"/Users/asimbiswal/desktop/sachacks2020/csv/thirddegreeburn.csv\", header=None)"
   ]
  },
  {
   "cell_type": "code",
   "execution_count": 27,
   "metadata": {},
   "outputs": [],
   "source": [
    "testX = test_table.values[0]"
   ]
  },
  {
   "cell_type": "code",
   "execution_count": 28,
   "metadata": {},
   "outputs": [
    {
     "data": {
      "text/plain": [
       "array(['partial_thickness'], dtype='<U18')"
      ]
     },
     "execution_count": 28,
     "metadata": {},
     "output_type": "execute_result"
    }
   ],
   "source": [
    "classifier.predict([testX])               "
   ]
  },
  {
   "cell_type": "code",
   "execution_count": 29,
   "metadata": {},
   "outputs": [],
   "source": [
    "test2_table = pd.read_csv(\"/Users/asimbiswal/desktop/sachacks2020/csv/seconddegreeburn.csv\", header=None)"
   ]
  },
  {
   "cell_type": "code",
   "execution_count": 30,
   "metadata": {},
   "outputs": [],
   "source": [
    "test3_table = pd.read_csv(\"/Users/asimbiswal/desktop/sachacks2020/csv/sunburntest.csv\", header=None)"
   ]
  },
  {
   "cell_type": "code",
   "execution_count": 31,
   "metadata": {},
   "outputs": [],
   "source": [
    "testX2 = test2_table.values[0]"
   ]
  },
  {
   "cell_type": "code",
   "execution_count": 32,
   "metadata": {},
   "outputs": [],
   "source": [
    "testX3 = test3_table.values[0]"
   ]
  },
  {
   "cell_type": "code",
   "execution_count": 33,
   "metadata": {},
   "outputs": [
    {
     "data": {
      "text/plain": [
       "array(['partial_thickness'], dtype='<U18')"
      ]
     },
     "execution_count": 33,
     "metadata": {},
     "output_type": "execute_result"
    }
   ],
   "source": [
    "classifier.predict([testX2])               "
   ]
  },
  {
   "cell_type": "code",
   "execution_count": 34,
   "metadata": {},
   "outputs": [
    {
     "data": {
      "text/plain": [
       "array(['partial_thickness'], dtype='<U18')"
      ]
     },
     "execution_count": 34,
     "metadata": {},
     "output_type": "execute_result"
    }
   ],
   "source": [
    "classifier.predict([testX3])               "
   ]
  },
  {
   "cell_type": "code",
   "execution_count": 35,
   "metadata": {},
   "outputs": [
    {
     "data": {
      "text/plain": [
       "MLPClassifier(activation='relu', alpha=1e-05, batch_size='auto', beta_1=0.9,\n",
       "              beta_2=0.999, early_stopping=False, epsilon=1e-08,\n",
       "              hidden_layer_sizes=(5, 2), learning_rate='constant',\n",
       "              learning_rate_init=0.001, max_iter=200, momentum=0.9,\n",
       "              n_iter_no_change=10, nesterovs_momentum=True, power_t=0.5,\n",
       "              random_state=1, shuffle=True, solver='lbfgs', tol=0.0001,\n",
       "              validation_fraction=0.1, verbose=False, warm_start=False)"
      ]
     },
     "execution_count": 35,
     "metadata": {},
     "output_type": "execute_result"
    }
   ],
   "source": [
    "X = []\n",
    "X.extend(X1)\n",
    "X.extend(X2)\n",
    "X.extend(X3)\n",
    "y = []\n",
    "y.extend(Y1)\n",
    "y.extend(Y2)\n",
    "y.extend(Y3)\n",
    "# first layer 5 nodes, second is 2 nodes\n",
    "classifier = MLPClassifier(solver='lbfgs', alpha=1e-5,\n",
    "                            hidden_layer_sizes=(5, 2), random_state=1)\n",
    "                            \n",
    "classifier.fit(X, y)"
   ]
  },
  {
   "cell_type": "code",
   "execution_count": 36,
   "metadata": {},
   "outputs": [
    {
     "data": {
      "text/plain": [
       "array(['full_thickness'], dtype='<U18')"
      ]
     },
     "execution_count": 36,
     "metadata": {},
     "output_type": "execute_result"
    }
   ],
   "source": [
    "classifier.predict([testX])               "
   ]
  },
  {
   "cell_type": "code",
   "execution_count": 37,
   "metadata": {},
   "outputs": [],
   "source": [
    "from sklearn.model_selection import train_test_split"
   ]
  },
  {
   "cell_type": "code",
   "execution_count": 38,
   "metadata": {},
   "outputs": [],
   "source": [
    "test_set = []\n",
    "test_set.extend(testX)\n",
    "test_set.extend(testX2)\n",
    "test_set.extend(testX3)"
   ]
  },
  {
   "cell_type": "code",
   "execution_count": 39,
   "metadata": {},
   "outputs": [],
   "source": [
    "X_train, X_test, y_train, y_test = train_test_split(\n",
    "    X, y, test_size=0.5, shuffle=False)"
   ]
  },
  {
   "cell_type": "code",
   "execution_count": 40,
   "metadata": {},
   "outputs": [],
   "source": [
    "X_train, X_test, y_train, y_test = train_test_split(\n",
    "    X, y, test_size=0.5)"
   ]
  },
  {
   "cell_type": "code",
   "execution_count": 41,
   "metadata": {},
   "outputs": [
    {
     "data": {
      "text/plain": [
       "MLPClassifier(activation='relu', alpha=1e-05, batch_size='auto', beta_1=0.9,\n",
       "              beta_2=0.999, early_stopping=False, epsilon=1e-08,\n",
       "              hidden_layer_sizes=(5, 2), learning_rate='constant',\n",
       "              learning_rate_init=0.001, max_iter=200, momentum=0.9,\n",
       "              n_iter_no_change=10, nesterovs_momentum=True, power_t=0.5,\n",
       "              random_state=1, shuffle=True, solver='lbfgs', tol=0.0001,\n",
       "              validation_fraction=0.1, verbose=False, warm_start=False)"
      ]
     },
     "execution_count": 41,
     "metadata": {},
     "output_type": "execute_result"
    }
   ],
   "source": [
    "classifier.fit(X_train, y_train)"
   ]
  },
  {
   "cell_type": "code",
   "execution_count": 42,
   "metadata": {},
   "outputs": [],
   "source": [
    "predicted_test = classifier.predict(X_test)\n"
   ]
  },
  {
   "cell_type": "code",
   "execution_count": 43,
   "metadata": {},
   "outputs": [],
   "source": [
    "from sklearn.metrics import accuracy_score"
   ]
  },
  {
   "cell_type": "code",
   "execution_count": 44,
   "metadata": {},
   "outputs": [
    {
     "data": {
      "text/plain": [
       "0.375"
      ]
     },
     "execution_count": 44,
     "metadata": {},
     "output_type": "execute_result"
    }
   ],
   "source": [
    "accuracy_score(y_test, predicted_test)"
   ]
  },
  {
   "cell_type": "code",
   "execution_count": 45,
   "metadata": {},
   "outputs": [],
   "source": [
    "predicted_train = classifier.predict(X_train)"
   ]
  },
  {
   "cell_type": "code",
   "execution_count": 46,
   "metadata": {},
   "outputs": [
    {
     "data": {
      "text/plain": [
       "0.14285714285714285"
      ]
     },
     "execution_count": 46,
     "metadata": {},
     "output_type": "execute_result"
    }
   ],
   "source": [
    "accuracy_score(y_train, predicted_train)"
   ]
  },
  {
   "cell_type": "code",
   "execution_count": 47,
   "metadata": {},
   "outputs": [],
   "source": [
    "import pickle\n",
    "s = pickle.dumps(classifier)\n",
    "classifier2 = pickle.loads(s)"
   ]
  },
  {
   "cell_type": "code",
   "execution_count": 48,
   "metadata": {},
   "outputs": [],
   "source": [
    "pickle.dump(classifier, open('model2.py', 'wb'))"
   ]
  },
  {
   "cell_type": "code",
   "execution_count": 49,
   "metadata": {},
   "outputs": [
    {
     "data": {
      "text/plain": [
       "MLPClassifier(activation='relu', alpha=1e-05, batch_size='auto', beta_1=0.9,\n",
       "              beta_2=0.999, early_stopping=False, epsilon=1e-08,\n",
       "              hidden_layer_sizes=(5, 2), learning_rate='constant',\n",
       "              learning_rate_init=0.001, max_iter=200, momentum=0.9,\n",
       "              n_iter_no_change=10, nesterovs_momentum=True, power_t=0.5,\n",
       "              random_state=1, shuffle=True, solver='lbfgs', tol=0.0001,\n",
       "              validation_fraction=0.1, verbose=False, warm_start=False)"
      ]
     },
     "execution_count": 49,
     "metadata": {},
     "output_type": "execute_result"
    }
   ],
   "source": [
    "classifier"
   ]
  },
  {
   "cell_type": "code",
   "execution_count": 50,
   "metadata": {},
   "outputs": [
    {
     "data": {
      "text/plain": [
       "['model.joblib']"
      ]
     },
     "execution_count": 50,
     "metadata": {},
     "output_type": "execute_result"
    }
   ],
   "source": [
    "from joblib import dump, load\n",
    "dump(classifier, 'model.joblib')"
   ]
  },
  {
   "cell_type": "code",
   "execution_count": 51,
   "metadata": {},
   "outputs": [],
   "source": [
    "f = open('model2.py', 'rb')\n",
    "cl = pickle.load(f)"
   ]
  },
  {
   "cell_type": "code",
   "execution_count": 52,
   "metadata": {},
   "outputs": [
    {
     "data": {
      "text/plain": [
       "MLPClassifier(activation='relu', alpha=1e-05, batch_size='auto', beta_1=0.9,\n",
       "              beta_2=0.999, early_stopping=False, epsilon=1e-08,\n",
       "              hidden_layer_sizes=(5, 2), learning_rate='constant',\n",
       "              learning_rate_init=0.001, max_iter=200, momentum=0.9,\n",
       "              n_iter_no_change=10, nesterovs_momentum=True, power_t=0.5,\n",
       "              random_state=1, shuffle=True, solver='lbfgs', tol=0.0001,\n",
       "              validation_fraction=0.1, verbose=False, warm_start=False)"
      ]
     },
     "execution_count": 52,
     "metadata": {},
     "output_type": "execute_result"
    }
   ],
   "source": [
    "cl\n"
   ]
  },
  {
   "cell_type": "code",
   "execution_count": null,
   "metadata": {},
   "outputs": [],
   "source": []
  }
 ],
 "metadata": {
  "kernelspec": {
   "display_name": "Python 3",
   "language": "python",
   "name": "python3"
  },
  "language_info": {
   "codemirror_mode": {
    "name": "ipython",
    "version": 3
   },
   "file_extension": ".py",
   "mimetype": "text/x-python",
   "name": "python",
   "nbconvert_exporter": "python",
   "pygments_lexer": "ipython3",
   "version": "3.7.3"
  }
 },
 "nbformat": 4,
 "nbformat_minor": 2
}
